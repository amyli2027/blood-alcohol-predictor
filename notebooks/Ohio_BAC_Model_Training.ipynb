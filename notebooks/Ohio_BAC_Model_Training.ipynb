{
  "cells": [
    {
      "cell_type": "code",
      "execution_count": 8,
      "metadata": {
        "colab": {
          "base_uri": "https://localhost:8080/",
          "height": 73
        },
        "id": "GFMSOonHfpWO",
        "outputId": "6e3c7400-90f0-4802-9e11-bcaf973fed0f"
      },
      "outputs": [],
      "source": [
        "import pandas as pd\n",
        "import sys\n",
        "sys.path.append('../src')\n",
        "import model_training_functions"
      ]
    },
    {
      "cell_type": "code",
      "execution_count": 9,
      "metadata": {
        "colab": {
          "base_uri": "https://localhost:8080/",
          "height": 551
        },
        "id": "_nvc4F2UEoru",
        "outputId": "90f7a434-9580-4a7e-c410-0c0c4d915201"
      },
      "outputs": [
        {
          "data": {
            "text/html": [
              "<div>\n",
              "<style scoped>\n",
              "    .dataframe tbody tr th:only-of-type {\n",
              "        vertical-align: middle;\n",
              "    }\n",
              "\n",
              "    .dataframe tbody tr th {\n",
              "        vertical-align: top;\n",
              "    }\n",
              "\n",
              "    .dataframe thead th {\n",
              "        text-align: right;\n",
              "    }\n",
              "</style>\n",
              "<table border=\"1\" class=\"dataframe\">\n",
              "  <thead>\n",
              "    <tr style=\"text-align: right;\">\n",
              "      <th></th>\n",
              "      <th>Gender_male</th>\n",
              "      <th>Bodyweight_grams</th>\n",
              "      <th>Ethanol_grams</th>\n",
              "      <th>BAC</th>\n",
              "    </tr>\n",
              "  </thead>\n",
              "  <tbody>\n",
              "    <tr>\n",
              "      <th>0</th>\n",
              "      <td>0</td>\n",
              "      <td>59875.2</td>\n",
              "      <td>70</td>\n",
              "      <td>0.100</td>\n",
              "    </tr>\n",
              "    <tr>\n",
              "      <th>1</th>\n",
              "      <td>0</td>\n",
              "      <td>58060.8</td>\n",
              "      <td>28</td>\n",
              "      <td>0.030</td>\n",
              "    </tr>\n",
              "    <tr>\n",
              "      <th>2</th>\n",
              "      <td>0</td>\n",
              "      <td>49896.0</td>\n",
              "      <td>126</td>\n",
              "      <td>0.190</td>\n",
              "    </tr>\n",
              "    <tr>\n",
              "      <th>3</th>\n",
              "      <td>1</td>\n",
              "      <td>87091.2</td>\n",
              "      <td>112</td>\n",
              "      <td>0.120</td>\n",
              "    </tr>\n",
              "    <tr>\n",
              "      <th>4</th>\n",
              "      <td>1</td>\n",
              "      <td>78019.2</td>\n",
              "      <td>42</td>\n",
              "      <td>0.040</td>\n",
              "    </tr>\n",
              "    <tr>\n",
              "      <th>5</th>\n",
              "      <td>0</td>\n",
              "      <td>113400.0</td>\n",
              "      <td>98</td>\n",
              "      <td>0.095</td>\n",
              "    </tr>\n",
              "    <tr>\n",
              "      <th>6</th>\n",
              "      <td>0</td>\n",
              "      <td>56700.0</td>\n",
              "      <td>42</td>\n",
              "      <td>0.070</td>\n",
              "    </tr>\n",
              "    <tr>\n",
              "      <th>7</th>\n",
              "      <td>1</td>\n",
              "      <td>79380.0</td>\n",
              "      <td>70</td>\n",
              "      <td>0.060</td>\n",
              "    </tr>\n",
              "    <tr>\n",
              "      <th>8</th>\n",
              "      <td>0</td>\n",
              "      <td>79380.0</td>\n",
              "      <td>42</td>\n",
              "      <td>0.020</td>\n",
              "    </tr>\n",
              "    <tr>\n",
              "      <th>9</th>\n",
              "      <td>1</td>\n",
              "      <td>124740.0</td>\n",
              "      <td>70</td>\n",
              "      <td>0.050</td>\n",
              "    </tr>\n",
              "    <tr>\n",
              "      <th>10</th>\n",
              "      <td>0</td>\n",
              "      <td>58968.0</td>\n",
              "      <td>56</td>\n",
              "      <td>0.070</td>\n",
              "    </tr>\n",
              "    <tr>\n",
              "      <th>11</th>\n",
              "      <td>1</td>\n",
              "      <td>76204.8</td>\n",
              "      <td>84</td>\n",
              "      <td>0.100</td>\n",
              "    </tr>\n",
              "    <tr>\n",
              "      <th>12</th>\n",
              "      <td>0</td>\n",
              "      <td>58060.8</td>\n",
              "      <td>70</td>\n",
              "      <td>0.085</td>\n",
              "    </tr>\n",
              "    <tr>\n",
              "      <th>13</th>\n",
              "      <td>1</td>\n",
              "      <td>111585.6</td>\n",
              "      <td>98</td>\n",
              "      <td>0.090</td>\n",
              "    </tr>\n",
              "    <tr>\n",
              "      <th>14</th>\n",
              "      <td>1</td>\n",
              "      <td>74390.4</td>\n",
              "      <td>14</td>\n",
              "      <td>0.010</td>\n",
              "    </tr>\n",
              "    <tr>\n",
              "      <th>15</th>\n",
              "      <td>1</td>\n",
              "      <td>79380.0</td>\n",
              "      <td>56</td>\n",
              "      <td>0.050</td>\n",
              "    </tr>\n",
              "  </tbody>\n",
              "</table>\n",
              "</div>"
            ],
            "text/plain": [
              "    Gender_male  Bodyweight_grams  Ethanol_grams    BAC\n",
              "0             0           59875.2             70  0.100\n",
              "1             0           58060.8             28  0.030\n",
              "2             0           49896.0            126  0.190\n",
              "3             1           87091.2            112  0.120\n",
              "4             1           78019.2             42  0.040\n",
              "5             0          113400.0             98  0.095\n",
              "6             0           56700.0             42  0.070\n",
              "7             1           79380.0             70  0.060\n",
              "8             0           79380.0             42  0.020\n",
              "9             1          124740.0             70  0.050\n",
              "10            0           58968.0             56  0.070\n",
              "11            1           76204.8             84  0.100\n",
              "12            0           58060.8             70  0.085\n",
              "13            1          111585.6             98  0.090\n",
              "14            1           74390.4             14  0.010\n",
              "15            1           79380.0             56  0.050"
            ]
          },
          "execution_count": 9,
          "metadata": {},
          "output_type": "execute_result"
        }
      ],
      "source": [
        "ohio_bac_dataset = pd.read_csv('../data/processed/ohio_bac_dataset_processed.csv')\n",
        "ohio_bac_dataset"
      ]
    },
    {
      "cell_type": "code",
      "execution_count": 10,
      "metadata": {
        "colab": {
          "base_uri": "https://localhost:8080/"
        },
        "id": "Xotf1gGU6MW-",
        "outputId": "4839a37d-fef6-4105-9be2-8a021a7221e9"
      },
      "outputs": [
        {
          "name": "stdout",
          "output_type": "stream",
          "text": [
            "Features: ['Ethanol_grams']\n",
            "Mean Squared Error: 0.0003436881774080768\n",
            "R2 score: 0.7789342376470662\n"
          ]
        }
      ],
      "source": [
        "model_training_functions.results(ohio_bac_dataset, ['Ethanol_grams'])"
      ]
    },
    {
      "cell_type": "code",
      "execution_count": 11,
      "metadata": {
        "colab": {
          "base_uri": "https://localhost:8080/"
        },
        "id": "GRkvextT83Kp",
        "outputId": "05b6922f-8b5c-4f8d-e915-f6a06f99f55e"
      },
      "outputs": [
        {
          "name": "stdout",
          "output_type": "stream",
          "text": [
            "Features: ['Ethanol_grams', 'Gender_male']\n",
            "Mean Squared Error: 0.0006008613006877596\n",
            "R2 score: 0.6135163493063658\n"
          ]
        }
      ],
      "source": [
        "model_training_functions.results(ohio_bac_dataset, ['Ethanol_grams', 'Gender_male'])"
      ]
    },
    {
      "cell_type": "code",
      "execution_count": 12,
      "metadata": {
        "colab": {
          "base_uri": "https://localhost:8080/"
        },
        "id": "0UuSL82p-Z6A",
        "outputId": "0e96d72f-25a5-443d-929c-a27c079d88d4"
      },
      "outputs": [
        {
          "name": "stdout",
          "output_type": "stream",
          "text": [
            "Features: ['Ethanol_grams', 'Bodyweight_grams']\n",
            "Mean Squared Error: 8.118777030258873e-05\n",
            "R2 score: 0.9477787206093902\n"
          ]
        }
      ],
      "source": [
        "model_training_functions.results(ohio_bac_dataset, ['Ethanol_grams', 'Bodyweight_grams'])"
      ]
    },
    {
      "cell_type": "code",
      "execution_count": null,
      "metadata": {},
      "outputs": [],
      "source": []
    }
  ],
  "metadata": {
    "colab": {
      "provenance": []
    },
    "kernelspec": {
      "display_name": "Python 3",
      "name": "python3"
    },
    "language_info": {
      "codemirror_mode": {
        "name": "ipython",
        "version": 3
      },
      "file_extension": ".py",
      "mimetype": "text/x-python",
      "name": "python",
      "nbconvert_exporter": "python",
      "pygments_lexer": "ipython3",
      "version": "3.12.2"
    }
  },
  "nbformat": 4,
  "nbformat_minor": 0
}
